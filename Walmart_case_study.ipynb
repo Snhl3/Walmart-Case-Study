{
 "cells": [
  {
   "cell_type": "code",
   "execution_count": 94,
   "id": "9fb32020",
   "metadata": {},
   "outputs": [],
   "source": [
    "import pandas as pd\n",
    "import numpy as np\n",
    "import matplotlib.pyplot as plt\n",
    "import seaborn as sns\n",
    "import warnings\n",
    "warnings.filterwarnings('ignore')\n",
    "from scipy.stats import norm"
   ]
  },
  {
   "cell_type": "code",
   "execution_count": 95,
   "id": "5f7da147",
   "metadata": {},
   "outputs": [
    {
     "data": {
      "text/html": [
       "<div>\n",
       "<style scoped>\n",
       "    .dataframe tbody tr th:only-of-type {\n",
       "        vertical-align: middle;\n",
       "    }\n",
       "\n",
       "    .dataframe tbody tr th {\n",
       "        vertical-align: top;\n",
       "    }\n",
       "\n",
       "    .dataframe thead th {\n",
       "        text-align: right;\n",
       "    }\n",
       "</style>\n",
       "<table border=\"1\" class=\"dataframe\">\n",
       "  <thead>\n",
       "    <tr style=\"text-align: right;\">\n",
       "      <th></th>\n",
       "      <th>User_ID</th>\n",
       "      <th>Product_ID</th>\n",
       "      <th>Gender</th>\n",
       "      <th>Age</th>\n",
       "      <th>Occupation</th>\n",
       "      <th>City_Category</th>\n",
       "      <th>Stay_In_Current_City_Years</th>\n",
       "      <th>Marital_Status</th>\n",
       "      <th>Product_Category</th>\n",
       "      <th>Purchase</th>\n",
       "    </tr>\n",
       "  </thead>\n",
       "  <tbody>\n",
       "    <tr>\n",
       "      <th>0</th>\n",
       "      <td>1000001</td>\n",
       "      <td>P00069042</td>\n",
       "      <td>F</td>\n",
       "      <td>0-17</td>\n",
       "      <td>10</td>\n",
       "      <td>A</td>\n",
       "      <td>2</td>\n",
       "      <td>0</td>\n",
       "      <td>3</td>\n",
       "      <td>8370</td>\n",
       "    </tr>\n",
       "    <tr>\n",
       "      <th>1</th>\n",
       "      <td>1000001</td>\n",
       "      <td>P00248942</td>\n",
       "      <td>F</td>\n",
       "      <td>0-17</td>\n",
       "      <td>10</td>\n",
       "      <td>A</td>\n",
       "      <td>2</td>\n",
       "      <td>0</td>\n",
       "      <td>1</td>\n",
       "      <td>15200</td>\n",
       "    </tr>\n",
       "    <tr>\n",
       "      <th>2</th>\n",
       "      <td>1000001</td>\n",
       "      <td>P00087842</td>\n",
       "      <td>F</td>\n",
       "      <td>0-17</td>\n",
       "      <td>10</td>\n",
       "      <td>A</td>\n",
       "      <td>2</td>\n",
       "      <td>0</td>\n",
       "      <td>12</td>\n",
       "      <td>1422</td>\n",
       "    </tr>\n",
       "    <tr>\n",
       "      <th>3</th>\n",
       "      <td>1000001</td>\n",
       "      <td>P00085442</td>\n",
       "      <td>F</td>\n",
       "      <td>0-17</td>\n",
       "      <td>10</td>\n",
       "      <td>A</td>\n",
       "      <td>2</td>\n",
       "      <td>0</td>\n",
       "      <td>12</td>\n",
       "      <td>1057</td>\n",
       "    </tr>\n",
       "    <tr>\n",
       "      <th>4</th>\n",
       "      <td>1000002</td>\n",
       "      <td>P00285442</td>\n",
       "      <td>M</td>\n",
       "      <td>55+</td>\n",
       "      <td>16</td>\n",
       "      <td>C</td>\n",
       "      <td>4+</td>\n",
       "      <td>0</td>\n",
       "      <td>8</td>\n",
       "      <td>7969</td>\n",
       "    </tr>\n",
       "  </tbody>\n",
       "</table>\n",
       "</div>"
      ],
      "text/plain": [
       "   User_ID Product_ID Gender   Age  Occupation City_Category  \\\n",
       "0  1000001  P00069042      F  0-17          10             A   \n",
       "1  1000001  P00248942      F  0-17          10             A   \n",
       "2  1000001  P00087842      F  0-17          10             A   \n",
       "3  1000001  P00085442      F  0-17          10             A   \n",
       "4  1000002  P00285442      M   55+          16             C   \n",
       "\n",
       "  Stay_In_Current_City_Years  Marital_Status  Product_Category  Purchase  \n",
       "0                          2               0                 3      8370  \n",
       "1                          2               0                 1     15200  \n",
       "2                          2               0                12      1422  \n",
       "3                          2               0                12      1057  \n",
       "4                         4+               0                 8      7969  "
      ]
     },
     "execution_count": 95,
     "metadata": {},
     "output_type": "execute_result"
    }
   ],
   "source": [
    "data = pd.read_csv('walmart_data.txt')\n",
    "data.head()"
   ]
  },
  {
   "cell_type": "code",
   "execution_count": 96,
   "id": "d875464a",
   "metadata": {},
   "outputs": [
    {
     "name": "stdout",
     "output_type": "stream",
     "text": [
      "<class 'pandas.core.frame.DataFrame'>\n",
      "RangeIndex: 550068 entries, 0 to 550067\n",
      "Data columns (total 10 columns):\n",
      " #   Column                      Non-Null Count   Dtype \n",
      "---  ------                      --------------   ----- \n",
      " 0   User_ID                     550068 non-null  int64 \n",
      " 1   Product_ID                  550068 non-null  object\n",
      " 2   Gender                      550068 non-null  object\n",
      " 3   Age                         550068 non-null  object\n",
      " 4   Occupation                  550068 non-null  int64 \n",
      " 5   City_Category               550068 non-null  object\n",
      " 6   Stay_In_Current_City_Years  550068 non-null  object\n",
      " 7   Marital_Status              550068 non-null  int64 \n",
      " 8   Product_Category            550068 non-null  int64 \n",
      " 9   Purchase                    550068 non-null  int64 \n",
      "dtypes: int64(5), object(5)\n",
      "memory usage: 42.0+ MB\n"
     ]
    }
   ],
   "source": [
    "data.info()"
   ]
  },
  {
   "cell_type": "code",
   "execution_count": 97,
   "id": "f68567f2",
   "metadata": {},
   "outputs": [
    {
     "data": {
      "text/html": [
       "<div>\n",
       "<style scoped>\n",
       "    .dataframe tbody tr th:only-of-type {\n",
       "        vertical-align: middle;\n",
       "    }\n",
       "\n",
       "    .dataframe tbody tr th {\n",
       "        vertical-align: top;\n",
       "    }\n",
       "\n",
       "    .dataframe thead th {\n",
       "        text-align: right;\n",
       "    }\n",
       "</style>\n",
       "<table border=\"1\" class=\"dataframe\">\n",
       "  <thead>\n",
       "    <tr style=\"text-align: right;\">\n",
       "      <th></th>\n",
       "      <th>User_ID</th>\n",
       "      <th>Occupation</th>\n",
       "      <th>Marital_Status</th>\n",
       "      <th>Product_Category</th>\n",
       "      <th>Purchase</th>\n",
       "    </tr>\n",
       "  </thead>\n",
       "  <tbody>\n",
       "    <tr>\n",
       "      <th>count</th>\n",
       "      <td>5.500680e+05</td>\n",
       "      <td>550068.000000</td>\n",
       "      <td>550068.000000</td>\n",
       "      <td>550068.000000</td>\n",
       "      <td>550068.000000</td>\n",
       "    </tr>\n",
       "    <tr>\n",
       "      <th>mean</th>\n",
       "      <td>1.003029e+06</td>\n",
       "      <td>8.076707</td>\n",
       "      <td>0.409653</td>\n",
       "      <td>5.404270</td>\n",
       "      <td>9263.968713</td>\n",
       "    </tr>\n",
       "    <tr>\n",
       "      <th>std</th>\n",
       "      <td>1.727592e+03</td>\n",
       "      <td>6.522660</td>\n",
       "      <td>0.491770</td>\n",
       "      <td>3.936211</td>\n",
       "      <td>5023.065394</td>\n",
       "    </tr>\n",
       "    <tr>\n",
       "      <th>min</th>\n",
       "      <td>1.000001e+06</td>\n",
       "      <td>0.000000</td>\n",
       "      <td>0.000000</td>\n",
       "      <td>1.000000</td>\n",
       "      <td>12.000000</td>\n",
       "    </tr>\n",
       "    <tr>\n",
       "      <th>25%</th>\n",
       "      <td>1.001516e+06</td>\n",
       "      <td>2.000000</td>\n",
       "      <td>0.000000</td>\n",
       "      <td>1.000000</td>\n",
       "      <td>5823.000000</td>\n",
       "    </tr>\n",
       "    <tr>\n",
       "      <th>50%</th>\n",
       "      <td>1.003077e+06</td>\n",
       "      <td>7.000000</td>\n",
       "      <td>0.000000</td>\n",
       "      <td>5.000000</td>\n",
       "      <td>8047.000000</td>\n",
       "    </tr>\n",
       "    <tr>\n",
       "      <th>75%</th>\n",
       "      <td>1.004478e+06</td>\n",
       "      <td>14.000000</td>\n",
       "      <td>1.000000</td>\n",
       "      <td>8.000000</td>\n",
       "      <td>12054.000000</td>\n",
       "    </tr>\n",
       "    <tr>\n",
       "      <th>max</th>\n",
       "      <td>1.006040e+06</td>\n",
       "      <td>20.000000</td>\n",
       "      <td>1.000000</td>\n",
       "      <td>20.000000</td>\n",
       "      <td>23961.000000</td>\n",
       "    </tr>\n",
       "  </tbody>\n",
       "</table>\n",
       "</div>"
      ],
      "text/plain": [
       "            User_ID     Occupation  Marital_Status  Product_Category  \\\n",
       "count  5.500680e+05  550068.000000   550068.000000     550068.000000   \n",
       "mean   1.003029e+06       8.076707        0.409653          5.404270   \n",
       "std    1.727592e+03       6.522660        0.491770          3.936211   \n",
       "min    1.000001e+06       0.000000        0.000000          1.000000   \n",
       "25%    1.001516e+06       2.000000        0.000000          1.000000   \n",
       "50%    1.003077e+06       7.000000        0.000000          5.000000   \n",
       "75%    1.004478e+06      14.000000        1.000000          8.000000   \n",
       "max    1.006040e+06      20.000000        1.000000         20.000000   \n",
       "\n",
       "            Purchase  \n",
       "count  550068.000000  \n",
       "mean     9263.968713  \n",
       "std      5023.065394  \n",
       "min        12.000000  \n",
       "25%      5823.000000  \n",
       "50%      8047.000000  \n",
       "75%     12054.000000  \n",
       "max     23961.000000  "
      ]
     },
     "execution_count": 97,
     "metadata": {},
     "output_type": "execute_result"
    }
   ],
   "source": [
    "data.describe()"
   ]
  },
  {
   "cell_type": "code",
   "execution_count": 98,
   "id": "7a6289d9",
   "metadata": {},
   "outputs": [
    {
     "data": {
      "text/html": [
       "<div>\n",
       "<style scoped>\n",
       "    .dataframe tbody tr th:only-of-type {\n",
       "        vertical-align: middle;\n",
       "    }\n",
       "\n",
       "    .dataframe tbody tr th {\n",
       "        vertical-align: top;\n",
       "    }\n",
       "\n",
       "    .dataframe thead th {\n",
       "        text-align: right;\n",
       "    }\n",
       "</style>\n",
       "<table border=\"1\" class=\"dataframe\">\n",
       "  <thead>\n",
       "    <tr style=\"text-align: right;\">\n",
       "      <th></th>\n",
       "      <th>Product_ID</th>\n",
       "      <th>Gender</th>\n",
       "      <th>Age</th>\n",
       "      <th>City_Category</th>\n",
       "      <th>Stay_In_Current_City_Years</th>\n",
       "    </tr>\n",
       "  </thead>\n",
       "  <tbody>\n",
       "    <tr>\n",
       "      <th>count</th>\n",
       "      <td>550068</td>\n",
       "      <td>550068</td>\n",
       "      <td>550068</td>\n",
       "      <td>550068</td>\n",
       "      <td>550068</td>\n",
       "    </tr>\n",
       "    <tr>\n",
       "      <th>unique</th>\n",
       "      <td>3631</td>\n",
       "      <td>2</td>\n",
       "      <td>7</td>\n",
       "      <td>3</td>\n",
       "      <td>5</td>\n",
       "    </tr>\n",
       "    <tr>\n",
       "      <th>top</th>\n",
       "      <td>P00265242</td>\n",
       "      <td>M</td>\n",
       "      <td>26-35</td>\n",
       "      <td>B</td>\n",
       "      <td>1</td>\n",
       "    </tr>\n",
       "    <tr>\n",
       "      <th>freq</th>\n",
       "      <td>1880</td>\n",
       "      <td>414259</td>\n",
       "      <td>219587</td>\n",
       "      <td>231173</td>\n",
       "      <td>193821</td>\n",
       "    </tr>\n",
       "  </tbody>\n",
       "</table>\n",
       "</div>"
      ],
      "text/plain": [
       "       Product_ID  Gender     Age City_Category Stay_In_Current_City_Years\n",
       "count      550068  550068  550068        550068                     550068\n",
       "unique       3631       2       7             3                          5\n",
       "top     P00265242       M   26-35             B                          1\n",
       "freq         1880  414259  219587        231173                     193821"
      ]
     },
     "execution_count": 98,
     "metadata": {},
     "output_type": "execute_result"
    }
   ],
   "source": [
    "data.describe(include= 'object')"
   ]
  },
  {
   "cell_type": "code",
   "execution_count": 99,
   "id": "8dd62f98",
   "metadata": {},
   "outputs": [
    {
     "data": {
      "text/plain": [
       "(550068, 10)"
      ]
     },
     "execution_count": 99,
     "metadata": {},
     "output_type": "execute_result"
    }
   ],
   "source": [
    "data.shape"
   ]
  },
  {
   "cell_type": "code",
   "execution_count": 100,
   "id": "7a17fd1a",
   "metadata": {},
   "outputs": [
    {
     "data": {
      "text/plain": [
       "User_ID                       0\n",
       "Product_ID                    0\n",
       "Gender                        0\n",
       "Age                           0\n",
       "Occupation                    0\n",
       "City_Category                 0\n",
       "Stay_In_Current_City_Years    0\n",
       "Marital_Status                0\n",
       "Product_Category              0\n",
       "Purchase                      0\n",
       "dtype: int64"
      ]
     },
     "execution_count": 100,
     "metadata": {},
     "output_type": "execute_result"
    }
   ],
   "source": [
    "data.isna().sum()"
   ]
  },
  {
   "cell_type": "markdown",
   "id": "a5a1e3ea",
   "metadata": {},
   "source": [
    "#### There are no missing value at all"
   ]
  },
  {
   "cell_type": "code",
   "execution_count": 101,
   "id": "c0636f37",
   "metadata": {},
   "outputs": [
    {
     "data": {
      "text/plain": [
       "0"
      ]
     },
     "execution_count": 101,
     "metadata": {},
     "output_type": "execute_result"
    }
   ],
   "source": [
    "data.duplicated().sum()"
   ]
  },
  {
   "cell_type": "markdown",
   "id": "caa889ae",
   "metadata": {},
   "source": [
    "#### There are no duplicate values"
   ]
  },
  {
   "cell_type": "code",
   "execution_count": 102,
   "id": "f2cec4db",
   "metadata": {},
   "outputs": [
    {
     "data": {
      "text/plain": [
       "array(['0-17', '55+', '26-35', '46-50', '51-55', '36-45', '18-25'],\n",
       "      dtype=object)"
      ]
     },
     "execution_count": 102,
     "metadata": {},
     "output_type": "execute_result"
    }
   ],
   "source": [
    "data.Age.unique()"
   ]
  },
  {
   "cell_type": "code",
   "execution_count": 103,
   "id": "c5acc6c0",
   "metadata": {},
   "outputs": [
    {
     "data": {
      "text/plain": [
       "array([0, 1], dtype=int64)"
      ]
     },
     "execution_count": 103,
     "metadata": {},
     "output_type": "execute_result"
    }
   ],
   "source": [
    "data.Marital_Status.unique()"
   ]
  },
  {
   "cell_type": "code",
   "execution_count": 104,
   "id": "d12c7714",
   "metadata": {},
   "outputs": [
    {
     "data": {
      "image/png": "[encoded data removed]",
      "text/plain": [
       "<Figure size 864x720 with 4 Axes>"
      ]
     },
     "metadata": {
      "needs_background": "light"
     },
     "output_type": "display_data"
    }
   ],
   "source": [
    "fig, ax = plt.subplots(2,2, figsize =(12, 10))\n",
    "ax[0,0].boxplot(data['Occupation'])\n",
    "ax[0,0].set_title('Occupation boxplot')\n",
    "\n",
    "ax[0,1].boxplot(data.Product_Category)\n",
    "ax[0,1].set_title('Boxplot of Product Category')\n",
    "\n",
    "ax[1,0].boxplot(data.Purchase)\n",
    "ax[1,0].set_title('Boxplot of Purchase')\n",
    "\n",
    "ax[1,1].axis('off')\n",
    "\n",
    "\n",
    "\n",
    "plt.tight_layout()\n",
    "plt.show()"
   ]
  },
  {
   "cell_type": "markdown",
   "id": "a71ba421",
   "metadata": {},
   "source": [
    "#### Purchase and product category has some outliers"
   ]
  },
  {
   "cell_type": "code",
   "execution_count": 105,
   "id": "521ef715",
   "metadata": {},
   "outputs": [
    {
     "data": {
      "text/plain": [
       "B    231173\n",
       "C    171175\n",
       "A    147720\n",
       "Name: City_Category, dtype: int64"
      ]
     },
     "execution_count": 105,
     "metadata": {},
     "output_type": "execute_result"
    }
   ],
   "source": [
    "category = data.City_Category.value_counts()\n",
    "category"
   ]
  },
  {
   "cell_type": "code",
   "execution_count": 106,
   "id": "8d4b73b4",
   "metadata": {
    "scrolled": true
   },
   "outputs": [
    {
     "data": {
      "text/plain": [
       "Text(0, 0.5, 'Count')"
      ]
     },
     "execution_count": 106,
     "metadata": {},
     "output_type": "execute_result"
    },
    {
     "data": {
      "image/png": "[encoded data removed]",
      "text/plain": [
       "<Figure size 432x288 with 1 Axes>"
      ]
     },
     "metadata": {
      "needs_background": "light"
     },
     "output_type": "display_data"
    }
   ],
   "source": [
    "sns.barplot(category.index, category.values)\n",
    "plt.title('Countplot of city category')\n",
    "plt.xlabel('City Category')\n",
    "plt.ylabel('Count')"
   ]
  },
  {
   "cell_type": "markdown",
   "id": "f25fea0c",
   "metadata": {},
   "source": [
    "#### City B has more purchase followed by city C and A"
   ]
  },
  {
   "cell_type": "code",
   "execution_count": 107,
   "id": "1f73b0c4",
   "metadata": {},
   "outputs": [
    {
     "data": {
      "text/plain": [
       "0          3.0\n",
       "1          1.0\n",
       "2         12.0\n",
       "3         12.0\n",
       "4          8.0\n",
       "          ... \n",
       "550063    13.0\n",
       "550064    13.0\n",
       "550065    13.0\n",
       "550066    13.0\n",
       "550067    13.0\n",
       "Name: Product_Category, Length: 550068, dtype: float64"
      ]
     },
     "execution_count": 107,
     "metadata": {},
     "output_type": "execute_result"
    }
   ],
   "source": [
    "clipped_columns['Product_Category']"
   ]
  },
  {
   "cell_type": "code",
   "execution_count": 108,
   "id": "146cb952",
   "metadata": {},
   "outputs": [],
   "source": [
    "product = data.Product_Category.value_counts()"
   ]
  },
  {
   "cell_type": "code",
   "execution_count": 109,
   "id": "0fac99a6",
   "metadata": {},
   "outputs": [
    {
     "data": {
      "text/plain": [
       "Text(0, 0.5, 'Count')"
      ]
     },
     "execution_count": 109,
     "metadata": {},
     "output_type": "execute_result"
    },
    {
     "data": {
      "image/png": "[encoded data removed]",
      "text/plain": [
       "<Figure size 864x576 with 1 Axes>"
      ]
     },
     "metadata": {
      "needs_background": "light"
     },
     "output_type": "display_data"
    }
   ],
   "source": [
    "plt.figure(figsize = (12, 8))\n",
    "sns.barplot(product.index, product.values)\n",
    "plt.title('Count of Product Category')\n",
    "plt.xlabel('Product label')\n",
    "plt.ylabel('Count')"
   ]
  },
  {
   "cell_type": "code",
   "execution_count": 110,
   "id": "5e1d3a7f",
   "metadata": {},
   "outputs": [],
   "source": [
    "data['Marital_status'] = data.Marital_Status.map({0: 'Unmarried', 1: 'Married'})"
   ]
  },
  {
   "cell_type": "code",
   "execution_count": 111,
   "id": "ccac8d7c",
   "metadata": {},
   "outputs": [],
   "source": [
    "marital_s = data.Marital_status.value_counts()"
   ]
  },
  {
   "cell_type": "code",
   "execution_count": 112,
   "id": "eba05a50",
   "metadata": {},
   "outputs": [
    {
     "data": {
      "text/plain": [
       "Text(0, 0.5, 'Count')"
      ]
     },
     "execution_count": 112,
     "metadata": {},
     "output_type": "execute_result"
    },
    {
     "data": {
      "image/png": "[encoded data removed]",
      "text/plain": [
       "<Figure size 432x288 with 1 Axes>"
      ]
     },
     "metadata": {
      "needs_background": "light"
     },
     "output_type": "display_data"
    }
   ],
   "source": [
    "sns.barplot(marital_s.index, marital_s.values)\n",
    "plt.xlabel('Marrital Status')\n",
    "plt.ylabel('Count')"
   ]
  },
  {
   "cell_type": "code",
   "execution_count": 113,
   "id": "fae06c15",
   "metadata": {},
   "outputs": [
    {
     "data": {
      "text/plain": [
       "<AxesSubplot:xlabel='Marital_status', ylabel='count'>"
      ]
     },
     "execution_count": 113,
     "metadata": {},
     "output_type": "execute_result"
    },
    {
     "data": {
      "image/png": "[encoded data removed]",
      "text/plain": [
       "<Figure size 1080x864 with 1 Axes>"
      ]
     },
     "metadata": {
      "needs_background": "light"
     },
     "output_type": "display_data"
    }
   ],
   "source": [
    "plt.figure(figsize = (15, 12))\n",
    "sns.countplot(x= 'Marital_status', hue = 'Product_Category', data = data)"
   ]
  },
  {
   "cell_type": "code",
   "execution_count": 114,
   "id": "cdae73d5",
   "metadata": {},
   "outputs": [],
   "source": [
    "Current_city_year = data.Stay_In_Current_City_Years.value_counts()"
   ]
  },
  {
   "cell_type": "code",
   "execution_count": 115,
   "id": "d586cd0e",
   "metadata": {},
   "outputs": [
    {
     "data": {
      "text/plain": [
       "Text(0, 0.5, 'Count')"
      ]
     },
     "execution_count": 115,
     "metadata": {},
     "output_type": "execute_result"
    },
    {
     "data": {
      "image/png": "[encoded data removed]",
      "text/plain": [
       "<Figure size 432x288 with 1 Axes>"
      ]
     },
     "metadata": {
      "needs_background": "light"
     },
     "output_type": "display_data"
    }
   ],
   "source": [
    "sns.barplot(Current_city_year.index, Current_city_year.values)\n",
    "plt.title('Stay in current city in Years')\n",
    "plt.xlabel('Years')\n",
    "plt.ylabel('Count')"
   ]
  },
  {
   "cell_type": "markdown",
   "id": "73d87388",
   "metadata": {},
   "source": [
    "##### Those who are living in city for 1 year has more purchase history than others"
   ]
  },
  {
   "cell_type": "code",
   "execution_count": 116,
   "id": "641dc174",
   "metadata": {},
   "outputs": [
    {
     "data": {
      "text/plain": [
       "<AxesSubplot:xlabel='Stay_In_Current_City_Years', ylabel='count'>"
      ]
     },
     "execution_count": 116,
     "metadata": {},
     "output_type": "execute_result"
    },
    {
     "data": {
      "image/png": "[encoded data removed]",
      "text/plain": [
       "<Figure size 864x864 with 1 Axes>"
      ]
     },
     "metadata": {
      "needs_background": "light"
     },
     "output_type": "display_data"
    }
   ],
   "source": [
    "plt.figure(figsize = (12, 12))\n",
    "sns.countplot('Stay_In_Current_City_Years', hue = 'Product_Category', data=data)"
   ]
  },
  {
   "cell_type": "code",
   "execution_count": 117,
   "id": "c814ec04",
   "metadata": {},
   "outputs": [],
   "source": [
    "gender = data.Gender.value_counts()"
   ]
  },
  {
   "cell_type": "code",
   "execution_count": 118,
   "id": "8dcf389a",
   "metadata": {},
   "outputs": [
    {
     "data": {
      "text/plain": [
       "Text(0.5, 0, 'Gender')"
      ]
     },
     "execution_count": 118,
     "metadata": {},
     "output_type": "execute_result"
    },
    {
     "data": {
      "image/png": "[encoded data removed]",
      "text/plain": [
       "<Figure size 432x288 with 1 Axes>"
      ]
     },
     "metadata": {
      "needs_background": "light"
     },
     "output_type": "display_data"
    }
   ],
   "source": [
    "sns.barplot(gender.index, gender.values)\n",
    "plt.title('Gender wise distribution')\n",
    "plt.xlabel('Gender')"
   ]
  },
  {
   "cell_type": "markdown",
   "id": "6a7858ab",
   "metadata": {},
   "source": [
    "#### It seems Male Purchase history is more than female"
   ]
  },
  {
   "cell_type": "markdown",
   "id": "e98f81e9",
   "metadata": {},
   "source": [
    "#### Data between the 5 percentile and 95 percentile"
   ]
  },
  {
   "cell_type": "code",
   "execution_count": 119,
   "id": "b15cd559",
   "metadata": {},
   "outputs": [],
   "source": [
    "columns_to_clip = ['Product_Category', 'Purchase']\n",
    "\n",
    "clipped_columns = {}\n",
    "\n",
    "for column in columns_to_clip:\n",
    "    percentile_5_val = np.percentile(data[column], 5)\n",
    "    percentile_95_val = np.percentile(data[column],95)\n",
    "    clipped_column = np.clip(data[column], percentile_5_val, percentile_95_val)\n",
    "    clipped_columns[column] = clipped_column"
   ]
  },
  {
   "cell_type": "code",
   "execution_count": 120,
   "id": "a5fbbcb9",
   "metadata": {},
   "outputs": [
    {
     "data": {
      "text/plain": [
       "5.0     150933\n",
       "1.0     140378\n",
       "8.0     113925\n",
       "13.0     31046\n",
       "11.0     24287\n",
       "2.0      23864\n",
       "6.0      20466\n",
       "3.0      20213\n",
       "4.0      11753\n",
       "10.0      5125\n",
       "12.0      3947\n",
       "7.0       3721\n",
       "9.0        410\n",
       "Name: Product_Category, dtype: int64"
      ]
     },
     "execution_count": 120,
     "metadata": {},
     "output_type": "execute_result"
    }
   ],
   "source": [
    "clipped_columns['Product_Category'].value_counts()"
   ]
  },
  {
   "cell_type": "code",
   "execution_count": 121,
   "id": "b50082e3",
   "metadata": {},
   "outputs": [],
   "source": [
    "df = data.copy()"
   ]
  },
  {
   "cell_type": "code",
   "execution_count": 122,
   "id": "2b2989af",
   "metadata": {},
   "outputs": [],
   "source": [
    "df['Product_Category'] = clipped_columns['Product_Category']\n",
    "df['Purchase'] = clipped_columns['Purchase']"
   ]
  },
  {
   "cell_type": "code",
   "execution_count": 123,
   "id": "d845fa98",
   "metadata": {},
   "outputs": [],
   "source": [
    "age = data.groupby('Age')['Product_Category'].count()"
   ]
  },
  {
   "cell_type": "code",
   "execution_count": 124,
   "id": "76a729b4",
   "metadata": {
    "scrolled": true
   },
   "outputs": [
    {
     "data": {
      "text/plain": [
       "Text(0, 0.5, 'Count of Product Category')"
      ]
     },
     "execution_count": 124,
     "metadata": {},
     "output_type": "execute_result"
    },
    {
     "data": {
      "image/png": "[encoded data removed]",
      "text/plain": [
       "<Figure size 864x720 with 1 Axes>"
      ]
     },
     "metadata": {
      "needs_background": "light"
     },
     "output_type": "display_data"
    }
   ],
   "source": [
    "plt.figure(figsize = (12, 10))\n",
    "plt.bar(age.index, age.values)\n",
    "plt.xlabel('Age')\n",
    "plt.ylabel('Count of Product Category')"
   ]
  },
  {
   "cell_type": "markdown",
   "id": "cc65a6aa",
   "metadata": {},
   "source": [
    "#### Age group 26-35 orders more comarative to other age group"
   ]
  },
  {
   "cell_type": "code",
   "execution_count": 125,
   "id": "7ac62c6b",
   "metadata": {},
   "outputs": [],
   "source": [
    "# Q 4: How does gender affect the amount spent?\n",
    "\n",
    "\n",
    "def get_average_spent_per_gender(data):\n",
    "  \"\"\"Calculates the average amount spent per gender.\"\"\"\n",
    "  return data.groupby('Gender')['Purchase'].mean()\n",
    "\n",
    "def bootstrap_ci(data, sample_size, n_bootstraps=50000):\n",
    "  \"\"\"Computes the confidence interval using bootstrapping.\"\"\"\n",
    "  gender_means = get_average_spent_per_gender(data)\n",
    "  bootstrapped_means = []\n",
    "  for i in range(n_bootstraps):\n",
    "    sample = data.sample(sample_size, replace=True)\n",
    "    bootstrapped_means.append(get_average_spent_per_gender(sample))\n",
    "\n",
    "    bootstrapped_means_df = pd.DataFrame(bootstrapped_means)\n",
    "  # Assuming a 95% confidence interval\n",
    "    quantiles = bootstrapped_means_df.quantile([0.025, 0.975], axis=1)\n",
    "    return quantiles.T"
   ]
  },
  {
   "cell_type": "code",
   "execution_count": 126,
   "id": "1c99357c",
   "metadata": {},
   "outputs": [
    {
     "data": {
      "text/plain": [
       "Gender\n",
       "F    8736.540266\n",
       "M    9427.240997\n",
       "Name: Purchase, dtype: float64"
      ]
     },
     "execution_count": 126,
     "metadata": {},
     "output_type": "execute_result"
    }
   ],
   "source": [
    "spent = get_average_spent_per_gender(df)\n",
    "spent"
   ]
  },
  {
   "cell_type": "code",
   "execution_count": 127,
   "id": "a992a70b",
   "metadata": {},
   "outputs": [
    {
     "data": {
      "image/png": "[encoded data removed]",
      "text/plain": [
       "<Figure size 864x576 with 1 Axes>"
      ]
     },
     "metadata": {
      "needs_background": "light"
     },
     "output_type": "display_data"
    }
   ],
   "source": [
    "plt.figure(figsize= (12, 8))\n",
    "sns.barplot(spent.index, spent.values, color = 'cyan')\n",
    "plt.xlabel('Gender')\n",
    "plt.ylabel('Total spent')\n",
    "plt.show()"
   ]
  },
  {
   "cell_type": "code",
   "execution_count": 128,
   "id": "43676365",
   "metadata": {},
   "outputs": [
    {
     "data": {
      "text/html": [
       "<div>\n",
       "<style scoped>\n",
       "    .dataframe tbody tr th:only-of-type {\n",
       "        vertical-align: middle;\n",
       "    }\n",
       "\n",
       "    .dataframe tbody tr th {\n",
       "        vertical-align: top;\n",
       "    }\n",
       "\n",
       "    .dataframe thead th {\n",
       "        text-align: right;\n",
       "    }\n",
       "</style>\n",
       "<table border=\"1\" class=\"dataframe\">\n",
       "  <thead>\n",
       "    <tr style=\"text-align: right;\">\n",
       "      <th></th>\n",
       "      <th>0.025</th>\n",
       "      <th>0.975</th>\n",
       "    </tr>\n",
       "  </thead>\n",
       "  <tbody>\n",
       "    <tr>\n",
       "      <th>Purchase</th>\n",
       "      <td>8764.625474</td>\n",
       "      <td>9427.446337</td>\n",
       "    </tr>\n",
       "  </tbody>\n",
       "</table>\n",
       "</div>"
      ],
      "text/plain": [
       "                0.025        0.975\n",
       "Purchase  8764.625474  9427.446337"
      ]
     },
     "execution_count": 128,
     "metadata": {},
     "output_type": "execute_result"
    }
   ],
   "source": [
    "bootstrap_ci(data, len(data))"
   ]
  },
  {
   "cell_type": "code",
   "execution_count": 129,
   "id": "4b686244",
   "metadata": {},
   "outputs": [
    {
     "name": "stdout",
     "output_type": "stream",
     "text": [
      "Confidence Interval for Sample Size 300:\n",
      "                0.025        0.975\n",
      "Purchase  8986.642475  9710.329238\n",
      "Confidence Interval for Sample Size 3000:\n",
      "                0.025        0.975\n",
      "Purchase  8994.249609  9618.148917\n",
      "Confidence Interval for Sample Size 30000:\n",
      "                0.025        0.975\n",
      "Purchase  8714.402089  9410.657681\n"
     ]
    }
   ],
   "source": [
    "# C. I. for different sizes\n",
    "sample_sizes = [300, 3000, 30000]\n",
    "for sample_size in sample_sizes:\n",
    "        sample_ci = bootstrap_ci(data.sample(sample_size, replace=True), sample_size)\n",
    "        print(f\"Confidence Interval for Sample Size {sample_size}:\")\n",
    "        print(sample_ci)"
   ]
  },
  {
   "cell_type": "markdown",
   "id": "3ca78f0b",
   "metadata": {},
   "source": [
    "### How does gender affect the amount spent?\n",
    "Sample size 300: round(8975.46379-8720.402612,2) = 255.06\n",
    "Sample size 3000: round(9568.542328-8874.368952,2) = 694.17\n",
    "Sample size 30000: round(9453.213589 - 8658.600629, 2) = 794.61\n",
    "This confirms  that a larger sample size leads to a larger confidence interval, reflecting a more precise estimate of the average purchase amount.\n",
    "The confidence interval width varies across sample sizes for gender \n"
   ]
  },
  {
   "cell_type": "code",
   "execution_count": 130,
   "id": "a055cd02",
   "metadata": {},
   "outputs": [],
   "source": [
    "# Q5 How does Marital_Status affect the amount spent\n",
    "\n",
    "def get_average_spent_per_marital_status(data):\n",
    "  \"\"\"Calculates the average amount spent per marital status.\"\"\"\n",
    "  return data.groupby('Marital_status')['Purchase'].mean()\n",
    "\n",
    "def bootstrap_ci_1(data, sample_size, n_bootstraps=1000):\n",
    "  \"\"\"Computes the confidence interval using bootstrapping.\"\"\"\n",
    "  marital_means = get_average_spent_per_marital_status(data)\n",
    "  bootstrapped_means = []\n",
    "  for _ in range(n_bootstraps):\n",
    "    sample = data.sample(sample_size, replace=True)\n",
    "    bootstrapped_means.append(get_average_spent_per_marital_status(sample))\n",
    "\n",
    "    bootstrapped_means_df = pd.DataFrame(bootstrapped_means)\n",
    "  # Assuming a 95% confidence interval\n",
    "    quantiles = bootstrapped_means_df.quantile([0.025, 0.975], axis=1)\n",
    "    return quantiles.T"
   ]
  },
  {
   "cell_type": "code",
   "execution_count": 131,
   "id": "2c259ef8",
   "metadata": {},
   "outputs": [
    {
     "data": {
      "text/plain": [
       "Marital_status\n",
       "Married      9261.174574\n",
       "Unmarried    9265.907619\n",
       "Name: Purchase, dtype: float64"
      ]
     },
     "execution_count": 131,
     "metadata": {},
     "output_type": "execute_result"
    }
   ],
   "source": [
    "ms = get_average_spent_per_marital_status(data)\n",
    "ms"
   ]
  },
  {
   "cell_type": "code",
   "execution_count": 132,
   "id": "920d2181",
   "metadata": {},
   "outputs": [
    {
     "data": {
      "text/plain": [
       "<AxesSubplot:xlabel='Marital_status'>"
      ]
     },
     "execution_count": 132,
     "metadata": {},
     "output_type": "execute_result"
    },
    {
     "data": {
      "image/png": "[encoded data removed]",
      "text/plain": [
       "<Figure size 432x288 with 1 Axes>"
      ]
     },
     "metadata": {
      "needs_background": "light"
     },
     "output_type": "display_data"
    }
   ],
   "source": [
    "sns.barplot(ms.index, ms.values, color = 'green')"
   ]
  },
  {
   "cell_type": "code",
   "execution_count": 133,
   "id": "0d9facef",
   "metadata": {},
   "outputs": [
    {
     "data": {
      "text/html": [
       "<div>\n",
       "<style scoped>\n",
       "    .dataframe tbody tr th:only-of-type {\n",
       "        vertical-align: middle;\n",
       "    }\n",
       "\n",
       "    .dataframe tbody tr th {\n",
       "        vertical-align: top;\n",
       "    }\n",
       "\n",
       "    .dataframe thead th {\n",
       "        text-align: right;\n",
       "    }\n",
       "</style>\n",
       "<table border=\"1\" class=\"dataframe\">\n",
       "  <thead>\n",
       "    <tr style=\"text-align: right;\">\n",
       "      <th></th>\n",
       "      <th>0.025</th>\n",
       "      <th>0.975</th>\n",
       "    </tr>\n",
       "  </thead>\n",
       "  <tbody>\n",
       "    <tr>\n",
       "      <th>Purchase</th>\n",
       "      <td>9256.720884</td>\n",
       "      <td>9283.345125</td>\n",
       "    </tr>\n",
       "  </tbody>\n",
       "</table>\n",
       "</div>"
      ],
      "text/plain": [
       "                0.025        0.975\n",
       "Purchase  9256.720884  9283.345125"
      ]
     },
     "execution_count": 133,
     "metadata": {},
     "output_type": "execute_result"
    }
   ],
   "source": [
    "bootstrap_ci_1(data, len(data))"
   ]
  },
  {
   "cell_type": "code",
   "execution_count": 134,
   "id": "e2b8fedd",
   "metadata": {},
   "outputs": [
    {
     "name": "stdout",
     "output_type": "stream",
     "text": [
      "Confidence Interval for Sample Size 300:\n",
      "                0.025        0.975\n",
      "Purchase  9539.995967  9679.967696\n",
      "Confidence Interval for Sample Size 3000:\n",
      "                0.025        0.975\n",
      "Purchase  9005.888774  9205.681198\n",
      "Confidence Interval for Sample Size 30000:\n",
      "                0.025        0.975\n",
      "Purchase  9225.509386  9231.802087\n"
     ]
    }
   ],
   "source": [
    "sample_size = [300, 3000, 30000]\n",
    "for sample in sample_size:\n",
    "        sample_ci = bootstrap_ci_1(data.sample(sample, replace=True), sample)\n",
    "        print(f\"Confidence Interval for Sample Size {sample}:\")\n",
    "        print(sample_ci)"
   ]
  },
  {
   "cell_type": "markdown",
   "id": "98782c51",
   "metadata": {},
   "source": [
    "####  5. How does Marital_Status affect the amount spent?\n",
    "\n",
    "Sample size 300: round(9723.721992-9035.276332, 2) = 688.45\n",
    "\n",
    "Sample size 3000: round(9177.663179- 9118.895905, 2) = 58.77\n",
    "\n",
    "Sample size 30000: round(9301.357872 - 9293.477086, 2) = 7.88\n",
    "\n",
    "This confirms  that a larger sample size leads to a narrower confidence interval, reflecting a more precise estimate of the average purchase amount."
   ]
  },
  {
   "cell_type": "code",
   "execution_count": 135,
   "id": "dae65aac",
   "metadata": {},
   "outputs": [],
   "source": [
    "# Q6:  6. How does Age affect the amount spent?\n",
    "\n",
    "def get_average_spent_per_age(data):\n",
    "  \"\"\"Calculates the average amount spent per age.\"\"\"\n",
    "  return data.groupby('Age')['Purchase'].mean()\n",
    "\n",
    "def bootstrap_ci_2(data, sample_size, n_bootstraps=1000):\n",
    "  \"\"\"Computes the confidence interval using bootstrapping.\"\"\"\n",
    "  age_means = get_average_spent_per_age(data)\n",
    "  bootstrapped_means = []\n",
    "  for _ in range(n_bootstraps):\n",
    "    sample = data.sample(sample_size, replace=True)\n",
    "    bootstrapped_means.append(get_average_spent_per_age(sample))\n",
    "\n",
    "    bootstrapped_means_df = pd.DataFrame(bootstrapped_means)\n",
    "  # Assuming a 95% confidence interval\n",
    "    quantiles = bootstrapped_means_df.quantile([0.025, 0.975], axis=1)\n",
    "    return quantiles.T"
   ]
  },
  {
   "cell_type": "code",
   "execution_count": 136,
   "id": "32149525",
   "metadata": {},
   "outputs": [
    {
     "data": {
      "text/plain": [
       "Age\n",
       "0-17     8933.464640\n",
       "18-25    9169.663606\n",
       "26-35    9252.690633\n",
       "36-45    9331.350695\n",
       "46-50    9208.625697\n",
       "51-55    9534.808031\n",
       "55+      9336.280459\n",
       "Name: Purchase, dtype: float64"
      ]
     },
     "execution_count": 136,
     "metadata": {},
     "output_type": "execute_result"
    }
   ],
   "source": [
    "Age = get_average_spent_per_age(data)\n",
    "Age"
   ]
  },
  {
   "cell_type": "code",
   "execution_count": 137,
   "id": "a5cd9f21",
   "metadata": {},
   "outputs": [
    {
     "data": {
      "text/plain": [
       "Text(0, 0.5, 'Average Spent')"
      ]
     },
     "execution_count": 137,
     "metadata": {},
     "output_type": "execute_result"
    },
    {
     "data": {
      "image/png": "[encoded data removed]",
      "text/plain": [
       "<Figure size 864x576 with 1 Axes>"
      ]
     },
     "metadata": {
      "needs_background": "light"
     },
     "output_type": "display_data"
    }
   ],
   "source": [
    "plt.figure(figsize = (12, 8))\n",
    "sns.barplot(Age.index, Age.values, color = 'red')\n",
    "plt.xlabel('Age')\n",
    "plt.ylabel('Average Spent')"
   ]
  },
  {
   "cell_type": "code",
   "execution_count": 138,
   "id": "18c6ea08",
   "metadata": {},
   "outputs": [
    {
     "data": {
      "text/html": [
       "<div>\n",
       "<style scoped>\n",
       "    .dataframe tbody tr th:only-of-type {\n",
       "        vertical-align: middle;\n",
       "    }\n",
       "\n",
       "    .dataframe tbody tr th {\n",
       "        vertical-align: top;\n",
       "    }\n",
       "\n",
       "    .dataframe thead th {\n",
       "        text-align: right;\n",
       "    }\n",
       "</style>\n",
       "<table border=\"1\" class=\"dataframe\">\n",
       "  <thead>\n",
       "    <tr style=\"text-align: right;\">\n",
       "      <th></th>\n",
       "      <th>0.025</th>\n",
       "      <th>0.975</th>\n",
       "    </tr>\n",
       "  </thead>\n",
       "  <tbody>\n",
       "    <tr>\n",
       "      <th>Purchase</th>\n",
       "      <td>8908.251741</td>\n",
       "      <td>9507.729568</td>\n",
       "    </tr>\n",
       "  </tbody>\n",
       "</table>\n",
       "</div>"
      ],
      "text/plain": [
       "                0.025        0.975\n",
       "Purchase  8908.251741  9507.729568"
      ]
     },
     "execution_count": 138,
     "metadata": {},
     "output_type": "execute_result"
    }
   ],
   "source": [
    "bootstrap_ci_2(data, len(data))"
   ]
  },
  {
   "cell_type": "code",
   "execution_count": 139,
   "id": "93db52e0",
   "metadata": {},
   "outputs": [
    {
     "name": "stdout",
     "output_type": "stream",
     "text": [
      "Confidence Interval for Sample Size 300:\n",
      "             0.025        0.975\n",
      "Purchase  5336.975  10609.53604\n",
      "Confidence Interval for Sample Size 3000:\n",
      "                0.025         0.975\n",
      "Purchase  8880.919758  10312.672085\n",
      "Confidence Interval for Sample Size 30000:\n",
      "               0.025        0.975\n",
      "Purchase  8548.42964  9496.231911\n"
     ]
    }
   ],
   "source": [
    "sample_size = [300, 3000, 30000]\n",
    "for sample in sample_size:\n",
    "        sample_ci = bootstrap_ci_2(data.sample(sample, replace=True), sample)\n",
    "        print(f\"Confidence Interval for Sample Size {sample}:\")\n",
    "        print(sample_ci)"
   ]
  },
  {
   "cell_type": "markdown",
   "id": "9becee74",
   "metadata": {},
   "source": [
    "##### How is the width of the confidence interval affected by the sample size?\n",
    " \n",
    "1.Sample Size 300: Widest interval (10815.920186 - 6106.863441 ≈ 4709.06)\n",
    "\n",
    "2.Sample Size 3000: Narrower interval (10086.178888 - 9125.641289 ≈ 960.54)\n",
    "\n",
    "3.Sample Size 30000: Narrowest interval (9520.499949 - 8838.930224 ≈ 681.57)\n",
    " \n",
    "This confirms the principle that a larger sample size leads to a narrower confidence interval, reflecting a more precise estimate of the average purchase amount.\n",
    "#### Do the confidence intervals for different sample sizes overlap?\n",
    "Larger sample sizes lead to narrower confidence intervals, indicating a more precise estimate of the average purchase amount.\n",
    "\n",
    "#####  How does the sample size affect the shape of the distributions of the means?\n",
    "Sample size primarily affects the spread of the distribution of means, not necessarily the underlying shape of the purchase amount data."
   ]
  },
  {
   "cell_type": "markdown",
   "id": "5db59e6d",
   "metadata": {},
   "source": [
    "### Report\n",
    "1.Overlapping CI for overall data suggests no significant difference in average spending between genders based on this sample.\n",
    "Suggestion: Walmart could use gender-neutral marketing and analyze purchase behavior within genders for targeted promotions.\n",
    "    \n",
    "2. YES, the confidence intervals for the average amount spent by married and unmarried (computed using all the data) overlap. \n",
    "Suggestion:   Implement unified marketing strategies.Analyze spending behavior within each group for further insights.\n",
    "    \n"
   ]
  },
  {
   "cell_type": "markdown",
   "id": "eba4b04d",
   "metadata": {},
   "source": [
    "### Recommondations\n",
    "\n",
    "  1.Targeted marketing: Since the majority of transactions are made by males, it would be beneficial to tailor marketing          strategies to cater to their preferences and needs. This could include specific promotions, product offerings, or advertising campaigns designed to attract male customers.\n",
    "\n",
    "\n",
    "2. Engage with new residents: As a significant portion of transactions  come from customers who have recently moved to the current city, it presents an opportunity to engage with these new residents. Targeted marketing, welcoming offers, and incentives for newcomers can help capture their loyalty and increase their spending.\n",
    "\n",
    "3. Increase focus on single customers: Given that 59.05% of total revenue is generated by single customers, dedicating efforts to cater to their needs and preferences can help drive more sales. Understanding their motivations and targeting them with personalized offers can enhance their shopping experience and loyalty.\n",
    "\n",
    "4. Location-based marketing: With a significant number of customers belonging to specific cities, tailoring marketing strategies to target these locations can lead to better results. Allocating resources, promotions, and events based on the customer concentration in each city can help drive sales\n",
    "\n",
    "5. Optimize revenue from specific age groups: Since a majority of transactions are made by customers between the ages of 26 and 45, it is important to focus marketing efforts on this demographic. Offering products and services that align with their interests and values can maximize revenue generation."
   ]
  },
  {
   "cell_type": "code",
   "execution_count": null,
   "id": "4b32e371",
   "metadata": {},
   "outputs": [],
   "source": []
  }
 ],
 "metadata": {
  "kernelspec": {
   "display_name": "Python 3 (ipykernel)",
   "language": "python",
   "name": "python3"
  },
  "language_info": {
   "codemirror_mode": {
    "name": "ipython",
    "version": 3
   },
   "file_extension": ".py",
   "mimetype": "text/x-python",
   "name": "python",
   "nbconvert_exporter": "python",
   "pygments_lexer": "ipython3",
   "version": "3.11.7"
  }
 },
 "nbformat": 4,
 "nbformat_minor": 5
}
